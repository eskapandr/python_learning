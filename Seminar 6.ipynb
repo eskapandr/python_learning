{
 "cells": [
  {
   "cell_type": "code",
   "execution_count": 24,
   "metadata": {},
   "outputs": [
    {
     "name": "stdout",
     "output_type": "stream",
     "text": [
      "Cегодняшняя температура:  −2 ,\n",
      " осадки:  [] ,\n",
      " завтрашняя температура:  −5° ,\n",
      " время восхода:  08:58 ,\n",
      " время заката:  15:59\n"
     ]
    }
   ],
   "source": [
    "#Задача 1. Скачать главную страницу Яндекс.Погоды и сделать следующее: \n",
    "#(1) распечатать сегодняшнюю температуру и облачность, \n",
    "#(2) распечатать время восхода и заката, \n",
    "#(3) погоду на завтраimport urllib.request\n",
    "import re\n",
    "\n",
    "url = 'https://yandex.ru/pogoda/moscow'\n",
    "user_agent = 'Mozilla/5.0 (Windows NT 6.1; Win64; x64)'\n",
    "\n",
    "req = urllib.request.Request('https://yandex.ru/pogoda/moscow', \n",
    "                             headers={'User-Agent':user_agent})  \n",
    "\n",
    "with urllib.request.urlopen(req) as response:\n",
    "    html = response.read().decode('utf-8')\n",
    "\n",
    "regTempValue = re.compile('<span class=\"temp__value\">.*?</span>', \n",
    "                          re.DOTALL)\n",
    "tempvalueToday = regTempValue.findall(html)\n",
    "\n",
    "regFallout = re.compile('<div class=\"fact__condition day-ancor i-bem\" data-bem=\"{\"day-anchor\":{\"ancor\":24}}\">.*?</div>', \n",
    "                          re.DOTALL)\n",
    "fallout = regFallout.findall(html)\n",
    "\n",
    "regSunriseset = re.compile('<dd class=\"sunrise-sunset__value\">.*?</dd>', \n",
    "                          re.DOTALL)\n",
    "sunriseset = regSunriseset.findall(html)\n",
    "\n",
    "regTempTomorrow = re.compile('<div class=\"temp forecast-briefly__temp forecast-briefly__temp_day\"><span class=\"temp__value\">.*?</span></div>', \n",
    "                          re.DOTALL)\n",
    "tempTomorrow = regTempTomorrow.findall(html)\n",
    "\n",
    "def data_cleaner(data):\n",
    "    #sub - меняет одну регулярку на другую\n",
    "    data = re.sub(r'<[^<>]*>', '', data)\n",
    "    data = re.sub(r'\\n', '', data)\n",
    "    #strip удаляет пробелы в начале и в конце строки\n",
    "    return data.strip()\n",
    "tempvalue_clean = [data_cleaner(data) for data in tempvalueToday]\n",
    "sunriseset_clean = [data_cleaner(data) for data in sunriseset]\n",
    "fallout_clean = [data_cleaner(data) for data in fallout]\n",
    "tempTomorrow_clean = [data_cleaner(data) for data in tempTomorrow]\n",
    "print('Cегодняшняя температура: ', tempvalue_clean[0],',\\n', \n",
    "      'осадки: ', fallout_clean, ',\\n', \n",
    "      'завтрашняя температура: ', tempTomorrow_clean[0], ',\\n', \n",
    "      'время восхода: ', sunriseset_clean[0],',\\n',\n",
    "     'время заката: ', sunriseset_clean[1])"
   ]
  },
  {
   "cell_type": "code",
   "execution_count": 25,
   "metadata": {},
   "outputs": [
    {
     "name": "stdout",
     "output_type": "stream",
     "text": [
      "0. Everything You Should Know About Sound\n",
      "1. Doing a TED Talk: The Full Story\n",
      "2. Horizontal History\n",
      "3. The Tail End\n",
      "4. The Cook and the Chef: Musk&#8217;s Secret Sauce\n",
      "5. How (and Why) SpaceX Will Colonize Mars\n",
      "6. Why I&#8217;m Always Late\n",
      "7. How Tesla Will Change The World\n",
      "8. Elon Musk: The World&#8217;s Raddest Man\n",
      "9. The Procrastination Matrix\n",
      "10. 7.3 Billion People, One Building\n",
      "11. The American Presidents—Johnson to McKinley\n",
      "12. The AI Revolution: Our Immortality or Extinction\n",
      "13. The AI Revolution: The Road to Superintelligence\n",
      "14. Our Most Popular Posts of 2014\n",
      "15. The Teen Years: 9 Cringe-Inducing Realizations\n",
      "16. What Makes You You?\n",
      "17. 10 Types of Odd Friendships You&#8217;re Probably ...\n",
      "18. From 1,000,000 to Graham&#8217;s Number\n",
      "19. From 1 to 1,000,000\n",
      "20. The Dark Secrets of the Bird World\n",
      "21. Religion for the Nonreligious\n",
      "22. How Religion Got in the Way\n",
      "23. Odd Things in Odd Places &#8211; All 7 Travel Post...\n",
      "24. From Muhammad to ISIS: Iraq&#8217;s Full Story\n",
      "25. Taming the Mammoth: Why You Should Stop Caring Wha...\n",
      "26. Why You Secretly Hate Cool Bars\n",
      "27. The Fermi Paradox\n",
      "28. 10 Absurdly Famous People You Probably Don&#8217;t...\n",
      "29. Your Life in Weeks\n",
      "30. Popular Posts\n"
     ]
    }
   ],
   "source": [
    "#Задача 2. Скачать главную страницу waitbutwhy.com. Распечатать заголовки популярных постов \n",
    "#(которые в колонке справа с надписью Popular Posts) и количество комментариев у каждого из них.\n",
    "url = 'https://waitbutwhy.com/'\n",
    "user_agent = 'Mozilla/5.0 (Windows NT 6.1; Win64; x64)'\n",
    "\n",
    "req = urllib.request.Request('https://waitbutwhy.com/', \n",
    "                             headers={'User-Agent':user_agent})  \n",
    "\n",
    "with urllib.request.urlopen(req) as response:\n",
    "    html = response.read().decode('utf-8')\n",
    "    \n",
    "import re\n",
    "\n",
    "regPopularPostHeader = re.compile('<h5><a href=\".*?\">.*?</a></h5>', \n",
    "                          re.DOTALL)\n",
    "popularPostHeaders = regPopularPostHeader.findall(html)\n",
    "\n",
    "def data_cleaner(data):\n",
    "    #sub - меняет одну регулярку на другую\n",
    "    data = re.sub(r'<[^<>]*>', '', data)\n",
    "    data = re.sub(r'\\n', '', data)\n",
    "    #strip удаляет пробелы в начале и в конце строки\n",
    "    return data.strip()\n",
    "\n",
    "popularPostHeaders_clean = [data_cleaner(data) for data in popularPostHeaders]\n",
    "for i, data in enumerate(popularPostHeaders_clean):\n",
    "    #форматирование строки для распечатки - cначала инт потом строка, после процентов - аргументs \n",
    "    print('%d. %s'%(i, data))"
   ]
  },
  {
   "cell_type": "code",
   "execution_count": null,
   "metadata": {
    "collapsed": true
   },
   "outputs": [],
   "source": []
  }
 ],
 "metadata": {
  "kernelspec": {
   "display_name": "Python 3",
   "language": "python",
   "name": "python3"
  },
  "language_info": {
   "codemirror_mode": {
    "name": "ipython",
    "version": 3
   },
   "file_extension": ".py",
   "mimetype": "text/x-python",
   "name": "python",
   "nbconvert_exporter": "python",
   "pygments_lexer": "ipython3",
   "version": "3.6.3"
  }
 },
 "nbformat": 4,
 "nbformat_minor": 2
}
