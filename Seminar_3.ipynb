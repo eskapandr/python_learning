{
 "cells": [
  {
   "cell_type": "code",
   "execution_count": 1,
   "metadata": {},
   "outputs": [
    {
     "data": {
      "text/plain": [
       "8"
      ]
     },
     "execution_count": 1,
     "metadata": {},
     "output_type": "execute_result"
    }
   ],
   "source": [
    "\n",
    "#Задача 1.\n",
    "#$n$ школьников делят $k$ яблок поровну, неделяющийся остаток остается в корзинке. Сколько яблок достанется каждому школьнику?\n",
    "#Функция получает на вход числа $n$ и $k$ - целые, положительные, не превышают $10000$.\n",
    "\n",
    "def applesDivider(n,k):\n",
    "    if type(n) == int and type(k) == int:\n",
    "        if 0 < n <= 10000 and 0 < k <= 10000:\n",
    "            return k//n\n",
    "        else:\n",
    "            return 'недопустимое значение одного из чисел'\n",
    "    else:\n",
    "        return 'недопустимое значение одного из чисел'\n",
    "applesDivider(1234,10000)\n"
   ]
  },
  {
   "cell_type": "code",
   "execution_count": 2,
   "metadata": {},
   "outputs": [
    {
     "data": {
      "text/plain": [
       "27"
      ]
     },
     "execution_count": 2,
     "metadata": {},
     "output_type": "execute_result"
    }
   ],
   "source": [
    "#Задача 2. Дано трехзначное число. Найдите сумму его цифр.\n",
    "def threeCiphersSum(a):\n",
    "    if 99 < a < 1000:\n",
    "        if type(a) == int:\n",
    "            b = str(a)\n",
    "            return int(b[0]) + int(b[1]) + int(b[2])\n",
    "        else:\n",
    "            return 'не целое число'\n",
    "    else:\n",
    "        return 'не трехзначное число'\n",
    "\n",
    "threeCiphersSum(999)"
   ]
  },
  {
   "cell_type": "code",
   "execution_count": 3,
   "metadata": {},
   "outputs": [
    {
     "data": {
      "text/plain": [
       "[1, 4, 9, 16, 25, 36, 49, 64, 81, 100]"
      ]
     },
     "execution_count": 3,
     "metadata": {},
     "output_type": "execute_result"
    }
   ],
   "source": [
    "#Задача 3. По данному целому числу N \n",
    "#распечатайте вернуть список квадратов натуральных чисел, не превосходящие N, в порядке возрастания.\n",
    "def squaresList(N):\n",
    "    if type(N) == int:\n",
    "        squares = [i*i for i in range(1,N+1)]\n",
    "        return squares\n",
    "    else:\n",
    "        return 'не целое число'\n",
    "squaresList(10)"
   ]
  },
  {
   "cell_type": "code",
   "execution_count": 4,
   "metadata": {},
   "outputs": [
    {
     "data": {
      "text/plain": [
       "[3, 4, 5, 6]"
      ]
     },
     "execution_count": 4,
     "metadata": {},
     "output_type": "execute_result"
    }
   ],
   "source": [
    "#Задача 4.\n",
    "#Необходимо определить индексы элементов списка, значение которых не меньше заданного минимума и не больше заданного максимума.\n",
    "#На вход функции подаётся список, минимум и максимум.\n",
    "def listIndexes(A, В, C):\n",
    "    ind = [A.index(i) for i in A if B <= i <= C]\n",
    "    return ind\n",
    "A = [1, 4, 9, 16, 25, 36, 49, 64, 81, 100]\n",
    "B = 10\n",
    "C = 50\n",
    "listIndexes(A, B, C)"
   ]
  },
  {
   "cell_type": "code",
   "execution_count": 238,
   "metadata": {},
   "outputs": [],
   "source": [
    "#Задача 5. На вход функции подаётся список натуральных чисел. \n",
    "#Определите наибольшую длину монотонного фрагмента последовательности \n",
    "#(то есть такого фрагмента, где все элементы либо больше предыдущего, либо меньше).\n"
   ]
  },
  {
   "cell_type": "code",
   "execution_count": 110,
   "metadata": {},
   "outputs": [
    {
     "name": "stdout",
     "output_type": "stream",
     "text": [
      "Зашифрованный текст:  пгпг пюог угпцц г тгтг пюо цхбж\n"
     ]
    },
    {
     "data": {
      "text/plain": [
       "'пгпг пюог угпцц г тгтг пюо цхбж'"
      ]
     },
     "execution_count": 110,
     "metadata": {},
     "output_type": "execute_result"
    }
   ],
   "source": [
    "#Задача 6.\n",
    "#В шифре Цезаря каждая буква заменяется на k-ую по счету в алфавите после данной, с цикличностью.\n",
    "#Функция принимает на вход строку и параметр k. Требуется вернуть зашифрованную строку.\n",
    "def caesar(A, k): \n",
    "    cipherText= \"\"\n",
    "    for ch in A:\n",
    "        if ch.isalpha():\n",
    "            stayInAlphabet = ord(ch) + k \n",
    "            if stayInAlphabet > ord('я'):\n",
    "                stayInAlphabet -= 32\n",
    "            finalLetter = chr(stayInAlphabet)\n",
    "        elif ch == ' ':\n",
    "            finalLetter = ' '\n",
    "        cipherText += finalLetter\n",
    "    print (\"Зашифрованный текст: \", cipherText)\n",
    "    return cipherText\n",
    "A = 'мама мыла раму, а папа мыл утюг'\n",
    "k = 3\n",
    "caesar(A,k)"
   ]
  },
  {
   "cell_type": "code",
   "execution_count": 70,
   "metadata": {},
   "outputs": [
    {
     "name": "stdout",
     "output_type": "stream",
     "text": [
      "[['North', '5'], ['East', '3'], ['South', '1']]\n"
     ]
    },
    {
     "data": {
      "text/plain": [
       "(4, 3)"
      ]
     },
     "execution_count": 70,
     "metadata": {},
     "output_type": "execute_result"
    }
   ],
   "source": [
    "#Задача 7\n",
    "#Капитан Флинт зарыл клад на Острове сокровищ. Он оставил описание, как найти клад. \n",
    "#Описание состоит из строк вида: “North 5”, где первое слово – одно из “North”, “South”, “East”, “West”, \n",
    "#а второе число – количество шагов, необходимое пройти в этом направлении.\n",
    "#Напишите программу, которая по описанию пути к кладу определяет точные координаты клада, \n",
    "#считая, что начало координат находится в начале пути, ось OX направлена на восток, ось OY – на север. Входные данные\n",
    "#Функция получает на вход список строк указанного вида.\n",
    "#Функция должна вернуть два целых числа: координаты клада.\n",
    "#Например, при входных данных: ['North 5', 'East 3', 'South 1'] функция должна вернуть координаты (3, 4)\n",
    "def flint(A):\n",
    "    D = []\n",
    "    for el in A:\n",
    "        C = list(el.split(' '))\n",
    "        D.append(C)\n",
    "    print(D)\n",
    "    for el in D:\n",
    "        if el[0] == 'North':\n",
    "            y1 = int(el[1])\n",
    "            break\n",
    "        elif el[0] != 'North':\n",
    "            y1 = 0\n",
    "    for el in D: \n",
    "        if el[0] == 'South':\n",
    "            y2 = int(el[1])\n",
    "            break\n",
    "        else:\n",
    "            y2 = 0\n",
    "    for el in D:    \n",
    "        if el[0] == 'East':\n",
    "            x1 = int(el[1])\n",
    "            break\n",
    "        else:\n",
    "            x1 = 0\n",
    "    for el in D:    \n",
    "        if el[0] == 'West':\n",
    "            x2 = int(el[1])\n",
    "            break\n",
    "        else:\n",
    "            x2 = 0\n",
    "    return y1-y2, x1-x2\n",
    "A = ['North 5', 'East 3', 'South 1']\n",
    "flint(A)"
   ]
  },
  {
   "cell_type": "code",
   "execution_count": 71,
   "metadata": {},
   "outputs": [
    {
     "data": {
      "text/plain": [
       "[('Мороз', 5), ('и', 1), ('солнце', 6), ('день', 4), ('чудесный', 8)]"
      ]
     },
     "execution_count": 71,
     "metadata": {},
     "output_type": "execute_result"
    }
   ],
   "source": [
    "#Задача 8. Напишите функцию, принимающую на вход строку и преобразующую её в список кортежей длины 2. \n",
    "#Каждый кортеж имеет вид (Слово, Длина_слова)\n",
    "def words(A):\n",
    "    B = A.split(' ')\n",
    "    words = []\n",
    "    lenWords = []\n",
    "    newWords = []\n",
    "    for el in B:\n",
    "        words.append(el)\n",
    "    for el in words:\n",
    "        newWords.append(el.replace(\",\", ''))\n",
    "    for el in newWords:\n",
    "        lenWords.append(len(el))\n",
    "    wlTuples = [] \n",
    "    for i,c in enumerate(words):\n",
    "        D = [newWords[i], lenWords[i]]\n",
    "        wlTuples.append(tuple(D)) \n",
    "    return wlTuples\n",
    "words('Мороз и солнце, день чудесный')"
   ]
  },
  {
   "cell_type": "code",
   "execution_count": 112,
   "metadata": {},
   "outputs": [
    {
     "data": {
      "text/plain": [
       "[10, 11, 5, 6]"
      ]
     },
     "execution_count": 112,
     "metadata": {},
     "output_type": "execute_result"
    }
   ],
   "source": [
    "#Задача 9. Написать функцию, которая на вход принимает два списка А и В, \n",
    "#а возвращает список элементов, которые одновременно содержаться и в A, и в B (без дубликатов)\n",
    "def commonList(A, B):\n",
    "    C = []\n",
    "    for el in A:\n",
    "        for item in B:\n",
    "            if el == item:\n",
    "                C.append(el)\n",
    "    return list(set(C))\n",
    "\n",
    "A = [5, 6, 11, 20, 30, 40, 5, 6, 10]\n",
    "B = [5, 6, 7, 8, 11, 5, 6, 10]\n",
    "commonList(A, B)"
   ]
  },
  {
   "cell_type": "code",
   "execution_count": 239,
   "metadata": {},
   "outputs": [
    {
     "name": "stdout",
     "output_type": "stream",
     "text": [
      "{'язычишко', 'язычина', 'звякало', 'гомосапиенс', 'рожденныйженщиной', 'метла', 'венецтворения', 'язык', 'язычок', 'смертный', 'язычище', 'мыслящийтростник', 'человек', 'царьприроды'} {'язык': 7, 'человек': 7}\n"
     ]
    }
   ],
   "source": [
    "#Задача 10. Сформировать словарь синонимов. В качестве ключевого слова взять самое короткое слово из синонимичного ряда.\n",
    "\n",
    "string = 'язык язычок, человек гомосапиенс, язычок язычина,язычишко язычище, язычишко звякало, гомосапиенс мыслящийтростник, человек рожденныйженщиной, язык язычишко, царьприроды мыслящийтростник, язычишко метла, рожденныйженщиной венецтворения, человек смертный' \n",
    "wordsList = string.split(' ')\n",
    "newWordsList = []\n",
    "for el in wordsList:\n",
    "    if el[-1] == ',':\n",
    "        newWordsList.append(el.replace(\",\", ''))\n",
    "    elif el[-1] != ',':\n",
    "        for char in el:\n",
    "            if char == ',':\n",
    "                newWordsList.append(el.split(','))          \n",
    "        else:\n",
    "                newWordsList.append(el)\n",
    "for item in newWordsList:\n",
    "    if type(item) == list:\n",
    "        for i in item:\n",
    "            newWordsList.append(i)\n",
    "        newWordsList.remove(item)\n",
    "for item in newWordsList:\n",
    "    for char in item:\n",
    "        if char == ',':\n",
    "            newWordsList.remove(item)\n",
    "a = 0\n",
    "b = 0\n",
    "for el in set(newWordsList):\n",
    "    if el[0:2] == 'яз' or el[0:3] == 'звя' or el[0:3] == 'мет':\n",
    "        a += 1\n",
    "    else:\n",
    "        b += 1\n",
    "d = dict([('язык', a), ('человек', b)])\n",
    "print(set(newWordsList), d)\n"
   ]
  },
  {
   "cell_type": "code",
   "execution_count": null,
   "metadata": {},
   "outputs": [],
   "source": [
    "\n"
   ]
  }
 ],
 "metadata": {
  "kernelspec": {
   "display_name": "Python 3",
   "language": "python",
   "name": "python3"
  },
  "language_info": {
   "codemirror_mode": {
    "name": "ipython",
    "version": 3
   },
   "file_extension": ".py",
   "mimetype": "text/x-python",
   "name": "python",
   "nbconvert_exporter": "python",
   "pygments_lexer": "ipython3",
   "version": "3.6.3"
  }
 },
 "nbformat": 4,
 "nbformat_minor": 2
}
